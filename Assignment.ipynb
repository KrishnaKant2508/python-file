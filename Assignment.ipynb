{
 "cells": [
  {
   "cell_type": "markdown",
   "id": "1ed39a06",
   "metadata": {},
   "source": [
    "# Print Hello world!"
   ]
  },
  {
   "cell_type": "code",
   "execution_count": 1,
   "id": "3aef1d29",
   "metadata": {},
   "outputs": [
    {
     "name": "stdout",
     "output_type": "stream",
     "text": [
      "Hello World\n"
     ]
    }
   ],
   "source": [
    "print('Hello World')"
   ]
  },
  {
   "cell_type": "markdown",
   "id": "c51fc357",
   "metadata": {},
   "source": [
    "# Declare the following variables: Int, Float, Boolean, String & print its value"
   ]
  },
  {
   "cell_type": "code",
   "execution_count": 5,
   "id": "c37d86d6",
   "metadata": {},
   "outputs": [
    {
     "name": "stdout",
     "output_type": "stream",
     "text": [
      "9\n",
      "<class 'int'>\n",
      "10.1\n",
      "<class 'float'>\n",
      "Hello world\n",
      "<class 'str'>\n",
      "False\n",
      "<class 'bool'>\n"
     ]
    }
   ],
   "source": [
    "_int_= 9\n",
    "_float_= 10.1\n",
    "_str_= 'Hello world'\n",
    "_bool_= (5<2)\n",
    "print(_int_)\n",
    "print(type(_int_))\n",
    "print(_float_)\n",
    "print(type(_float_))\n",
    "print(_str_)\n",
    "print(type(_str_))\n",
    "print(_bool_)\n",
    "print(type(_bool_))\n"
   ]
  },
  {
   "cell_type": "markdown",
   "id": "ec6f1404",
   "metadata": {},
   "source": [
    "# Program to calculate the Area Of Triangle"
   ]
  },
  {
   "cell_type": "code",
   "execution_count": 6,
   "id": "7a18734d",
   "metadata": {},
   "outputs": [
    {
     "name": "stdout",
     "output_type": "stream",
     "text": [
      "Input the value of base:20\n",
      "Input the value of height:40\n",
      "The area of triangle is 400.0\n"
     ]
    }
   ],
   "source": [
    "base= float(input('Input the value of base:'))\n",
    "height= float(input('Input the value of height:'))\n",
    "area= 1/2*(base)*height\n",
    "print(f'The area of triangle is {area}' )"
   ]
  },
  {
   "cell_type": "markdown",
   "id": "f06f3483",
   "metadata": {},
   "source": [
    "# Program to swap two variables"
   ]
  },
  {
   "cell_type": "code",
   "execution_count": 10,
   "id": "0859c151",
   "metadata": {},
   "outputs": [
    {
     "name": "stdout",
     "output_type": "stream",
     "text": [
      "Input Value of x:4\n",
      "Input Value of y:5\n",
      "Value of x after swap 4\n",
      "Value of y after swap 5\n"
     ]
    }
   ],
   "source": [
    "x= int(input('Input Value of x:'))\n",
    "y= int(input('Input Value of y:'))\n",
    "x1=x\n",
    "x=y\n",
    "y=x1\n",
    "\n",
    "print(f'Value of x after swap {y}')\n",
    "print(f'Value of y after swap {x}')\n",
    "\n",
    "\n",
    "\n"
   ]
  },
  {
   "cell_type": "markdown",
   "id": "f6085a45",
   "metadata": {},
   "source": [
    "# Program is to check if a number is positive, negative or 0 (Using If…elif…else)\n"
   ]
  },
  {
   "cell_type": "code",
   "execution_count": 13,
   "id": "2cab5c6e",
   "metadata": {},
   "outputs": [
    {
     "name": "stdout",
     "output_type": "stream",
     "text": [
      "Enter the number:0\n",
      "Number is neutral\n"
     ]
    }
   ],
   "source": [
    "number= int(input('Enter the number:'))\n",
    "if number<0:\n",
    "    print('Number is negitive')\n",
    "elif number>0:\n",
    "    print('Number is positive')\n",
    "else:\n",
    "    print('Number is neutral')"
   ]
  },
  {
   "cell_type": "markdown",
   "id": "bb317b2d",
   "metadata": {},
   "source": [
    "# Program is to check if a number is Even or Odd\n"
   ]
  },
  {
   "cell_type": "code",
   "execution_count": 15,
   "id": "66bfdbda",
   "metadata": {},
   "outputs": [
    {
     "name": "stdout",
     "output_type": "stream",
     "text": [
      "Enter the number:4\n",
      "number is even\n"
     ]
    }
   ],
   "source": [
    "number= int(input('Enter the number:'))\n",
    "if number%2==0:\n",
    "    print('number is even')\n",
    "else:\n",
    "    print('number is odd')"
   ]
  },
  {
   "cell_type": "markdown",
   "id": "396d7a4c",
   "metadata": {},
   "source": [
    "# Program to print Odd number within a given range"
   ]
  },
  {
   "cell_type": "code",
   "execution_count": 19,
   "id": "543c614c",
   "metadata": {},
   "outputs": [
    {
     "name": "stdout",
     "output_type": "stream",
     "text": [
      "2\n",
      "10\n",
      "3 5 7 9 "
     ]
    }
   ],
   "source": [
    "start= int(input())\n",
    "end=int(input())\n",
    "for num in range(start, end + 1):\n",
    "     \n",
    "    if num % 2 != 0:\n",
    "        print(num, end = \" \")"
   ]
  },
  {
   "cell_type": "markdown",
   "id": "700c2c2e",
   "metadata": {},
   "source": [
    "# Python program to find the factorial of a number"
   ]
  },
  {
   "cell_type": "code",
   "execution_count": 22,
   "id": "ddeaee27",
   "metadata": {},
   "outputs": [
    {
     "name": "stdout",
     "output_type": "stream",
     "text": [
      "enter the number : 4\n",
      "24\n"
     ]
    }
   ],
   "source": [
    "n= int(input('enter the number : '))\n",
    "m=1\n",
    "for i in range(1,n+1):\n",
    "    m=m*i\n",
    "    \n",
    "print(m)\n",
    "    "
   ]
  },
  {
   "cell_type": "markdown",
   "id": "857d22e2",
   "metadata": {},
   "source": [
    "# Program to reverse a given number\n"
   ]
  },
  {
   "cell_type": "code",
   "execution_count": 30,
   "id": "3520f873",
   "metadata": {},
   "outputs": [
    {
     "name": "stdout",
     "output_type": "stream",
     "text": [
      "Enter the number: 123456\n",
      "654321\n"
     ]
    }
   ],
   "source": [
    "n= int(input('Enter the number: '))\n",
    "m= str(n)\n",
    "print(m[::-1])"
   ]
  },
  {
   "cell_type": "markdown",
   "id": "8f33dd95",
   "metadata": {},
   "source": [
    "# Program to find out the sum of Natural numbers"
   ]
  },
  {
   "cell_type": "code",
   "execution_count": 39,
   "id": "6b222f8a",
   "metadata": {},
   "outputs": [
    {
     "name": "stdout",
     "output_type": "stream",
     "text": [
      "ENTER NUMBER: 5\n",
      "7620753696\n"
     ]
    }
   ],
   "source": [
    "num= int(input('ENTER NUMBER: '))\n",
    "sum1=0\n",
    "i=0\n",
    "\n",
    "while i<n:\n",
    "    sum1=sum1+i\n",
    "    i=i+1\n",
    "\n",
    "    \n",
    "    \n",
    "    \n",
    "    \n",
    "    "
   ]
  },
  {
   "cell_type": "markdown",
   "id": "9b978318",
   "metadata": {},
   "source": [
    "# Program to reverse a string without using recursion\n"
   ]
  },
  {
   "cell_type": "code",
   "execution_count": 40,
   "id": "0e84e95e",
   "metadata": {},
   "outputs": [
    {
     "name": "stdout",
     "output_type": "stream",
     "text": [
      "Enter the string: Hello\n",
      "olleH\n"
     ]
    }
   ],
   "source": [
    "_str_= input('Enter the string: ')\n",
    "reverse= _str_[::-1]\n",
    "print(reverse)"
   ]
  },
  {
   "cell_type": "markdown",
   "id": "9a936b3d",
   "metadata": {},
   "source": [
    "# Program to check if string is palindrome or not\n"
   ]
  },
  {
   "cell_type": "code",
   "execution_count": 45,
   "id": "a6abf964",
   "metadata": {},
   "outputs": [
    {
     "name": "stdout",
     "output_type": "stream",
     "text": [
      "enter the word: ALTA\n",
      "Its not a palindrome\n"
     ]
    }
   ],
   "source": [
    "word = input('enter the word: ')\n",
    "reverse= word[::-1]\n",
    "if  word == reverse:\n",
    "    print('Its a palindrome')\n",
    "else:\n",
    "    print('Its not a palindrome')\n"
   ]
  },
  {
   "cell_type": "markdown",
   "id": "d48b5d21",
   "metadata": {},
   "source": [
    "# Python Program to Replace all Occurrences of ‘a’ with $ in a String"
   ]
  },
  {
   "cell_type": "code",
   "execution_count": 52,
   "id": "8813268d",
   "metadata": {},
   "outputs": [
    {
     "name": "stdout",
     "output_type": "stream",
     "text": [
      "Enter the word: abbala\n",
      "$bb$l$\n"
     ]
    }
   ],
   "source": [
    "word= input('Enter the word: ')\n",
    "replace_word= ''\n",
    "for i in range(len(word)):\n",
    "    if word[i]=='a':\n",
    "        replace_word=replace_word+'$'\n",
    "    else:\n",
    "        replace_word=replace_word + word[i]\n",
    "print(replace_word)\n",
    "        \n",
    "    \n"
   ]
  },
  {
   "cell_type": "markdown",
   "id": "4e2fc5ac",
   "metadata": {},
   "source": [
    "# Python Program to Count the Number of Vowels in a String\n"
   ]
  },
  {
   "cell_type": "code",
   "execution_count": 4,
   "id": "ea9b8740",
   "metadata": {},
   "outputs": [
    {
     "name": "stdout",
     "output_type": "stream",
     "text": [
      "Enter the sentence: Hii!!! My name is krishna\n",
      "7\n"
     ]
    }
   ],
   "source": [
    "sentence= input('Enter the sentence: ')\n",
    "vowel = list('aeiouAEIOU')\n",
    "count=0\n",
    "for i in sentence:\n",
    "    if i in vowel:\n",
    "        count= count+1\n",
    "print(count)\n",
    "\n",
    "\n",
    "# word= ('aeiouAEIOU')\n",
    "# _list= list(word)\n",
    "# _set= set(word)\n",
    "# print(_set)\n",
    "# print(_list)\n"
   ]
  },
  {
   "cell_type": "code",
   "execution_count": 11,
   "id": "a6dad5b0",
   "metadata": {},
   "outputs": [
    {
     "name": "stdout",
     "output_type": "stream",
     "text": [
      "Enter the sentence:  Hii!!! My name is krishna 7\n",
      "7\n"
     ]
    }
   ],
   "source": [
    "sentence= input('Enter the sentence: ')\n",
    "vowel = list('aeiouAEIOU')\n",
    "w=[]\n",
    "for i in range(len(sentence)):\n",
    "    for j in range(len(vowel)):\n",
    "         if sentence[i]==vowel[j]:\n",
    "                w.append(vowel[j])\n",
    "       \n",
    "            \n",
    "print(len(w))\n",
    "    \n",
    "   "
   ]
  },
  {
   "cell_type": "markdown",
   "id": "e3f7a216",
   "metadata": {},
   "source": [
    "# Input Two Strings and Display the Larger String without Using Built-in Functions"
   ]
  },
  {
   "cell_type": "code",
   "execution_count": 17,
   "id": "69c6c1ef",
   "metadata": {},
   "outputs": [
    {
     "name": "stdout",
     "output_type": "stream",
     "text": [
      "lkj\n",
      "lll\n",
      "both are equal\n"
     ]
    }
   ],
   "source": [
    "string1= input()\n",
    "string2= input()\n",
    "c1=0\n",
    "c2=0\n",
    "\n",
    "for i in string1:\n",
    "    c1=c1+1\n",
    "for j in string2:\n",
    "    c2=c2+1\n",
    "    \n",
    "if c1>c2:\n",
    "    print('string1 is largest')\n",
    "elif c1<c2:\n",
    "    print('string2 is largest')\n",
    "else:\n",
    "    print('both are equal')\n",
    "\n",
    "    "
   ]
  },
  {
   "cell_type": "markdown",
   "id": "e17b0309",
   "metadata": {},
   "source": [
    "# Count the number of digits & letter in a string"
   ]
  },
  {
   "cell_type": "code",
   "execution_count": 24,
   "id": "2f953f28",
   "metadata": {},
   "outputs": [
    {
     "name": "stdout",
     "output_type": "stream",
     "text": [
      "Enter the sentence: krishna1234\n",
      "4\n",
      "7\n"
     ]
    }
   ],
   "source": [
    "sent= input('Enter the sentence: ')\n",
    "c1=0\n",
    "c2=0\n",
    "for i in sent:\n",
    "    if i.isnumeric():\n",
    "        c1=c1+1\n",
    "    elif i.isalpha():\n",
    "        c2=c2+1\n",
    "print(c1)\n",
    "print(c2)\n",
    "\n",
    "    \n",
    "\n"
   ]
  },
  {
   "cell_type": "markdown",
   "id": "20efeb10",
   "metadata": {},
   "source": [
    "# Count Number of Lowercase Characters in a String\n"
   ]
  },
  {
   "cell_type": "code",
   "execution_count": 26,
   "id": "fccfcb09",
   "metadata": {},
   "outputs": [
    {
     "name": "stdout",
     "output_type": "stream",
     "text": [
      "ABABAabababa\n",
      "7\n"
     ]
    }
   ],
   "source": [
    "sent= input()\n",
    "count=0\n",
    "for i in sent:\n",
    "    if i.islower():\n",
    "        count=count+1\n",
    "print(count)\n",
    "        "
   ]
  },
  {
   "cell_type": "markdown",
   "id": "0689d23a",
   "metadata": {},
   "source": [
    "# Program to check if a Substring is Present in a Given String"
   ]
  },
  {
   "cell_type": "code",
   "execution_count": 30,
   "id": "d5680d3a",
   "metadata": {},
   "outputs": [
    {
     "name": "stdout",
     "output_type": "stream",
     "text": [
      "geeks for geeks\n",
      "geeks\n",
      "sub string present\n",
      "sub string present\n"
     ]
    }
   ],
   "source": [
    "_str= input().split()\n",
    "_sub= input()\n",
    "for i in _str:\n",
    "    if i==_sub:\n",
    "        print('sub string present')"
   ]
  },
  {
   "cell_type": "markdown",
   "id": "c284a1e0",
   "metadata": {},
   "source": [
    "# Program to Find the Largest Number in a List\n"
   ]
  },
  {
   "cell_type": "code",
   "execution_count": 54,
   "id": "9db8e0ba",
   "metadata": {},
   "outputs": [
    {
     "name": "stdout",
     "output_type": "stream",
     "text": [
      "9987653\n",
      "The largest number is 9\n"
     ]
    }
   ],
   "source": [
    "num= input()\n",
    "num_list= list(map(int, str(num)))\n",
    "num_list.sort(reverse=True)\n",
    "print('The largest number is',num_list[0])\n",
    "\n"
   ]
  },
  {
   "cell_type": "markdown",
   "id": "3e238088",
   "metadata": {},
   "source": [
    "# Program to Put Even and Odd elements in a List into Two Different Lists"
   ]
  },
  {
   "cell_type": "code",
   "execution_count": 58,
   "id": "077e03ef",
   "metadata": {},
   "outputs": [
    {
     "ename": "SyntaxError",
     "evalue": "invalid syntax (3712479223.py, line 6)",
     "output_type": "error",
     "traceback": [
      "\u001b[1;36m  File \u001b[1;32m\"C:\\Users\\panda\\AppData\\Local\\Temp\\ipykernel_25344\\3712479223.py\"\u001b[1;36m, line \u001b[1;32m6\u001b[0m\n\u001b[1;33m    for i in num_list:\u001b[0m\n\u001b[1;37m                     ^\u001b[0m\n\u001b[1;31mSyntaxError\u001b[0m\u001b[1;31m:\u001b[0m invalid syntax\n"
     ]
    }
   ],
   "source": [
    "\n",
    "\n",
    "num= input()\n",
    "num_list= list(map(int,str(num))\n",
    "\n",
    "for i in num_list:\n",
    "            if i%2==0:\n",
    "               odd.append(i)\n",
    "               else:\n",
    "               _ven.append(i)\n",
    "               \n",
    "               \n",
    "               "
   ]
  },
  {
   "cell_type": "code",
   "execution_count": null,
   "id": "c6aaf92b",
   "metadata": {},
   "outputs": [],
   "source": [
    "odd=[]\n",
    "even=[]\n",
    "num= input()\n",
    "num_list= list(map(int,str(num))\n",
    "               "
   ]
  },
  {
   "cell_type": "code",
   "execution_count": 60,
   "id": "b06a091f",
   "metadata": {},
   "outputs": [
    {
     "name": "stdout",
     "output_type": "stream",
     "text": [
      "98764321\n",
      "[9, 7, 3, 1]\n",
      "[8, 6, 4, 2]\n"
     ]
    }
   ],
   "source": [
    "odd=[]\n",
    "even=[]\n",
    "num= input()\n",
    "num_list= list(map(int,str(num)))\n",
    "for i in num_list:\n",
    "    if i%2!=0:\n",
    "        odd.append(i)\n",
    "    else:\n",
    "        even.append(i)\n",
    "print(odd)\n",
    "print(even)"
   ]
  },
  {
   "cell_type": "markdown",
   "id": "5b752c64",
   "metadata": {},
   "source": [
    "# Program to Read a List of Words and Return the Length of the Longest One:\n"
   ]
  },
  {
   "cell_type": "code",
   "execution_count": 1,
   "id": "b352e6f9",
   "metadata": {},
   "outputs": [
    {
     "name": "stdout",
     "output_type": "stream",
     "text": [
      "Enter number of elements:\n"
     ]
    },
    {
     "ename": "ValueError",
     "evalue": "invalid literal for int() with base 10: ''",
     "output_type": "error",
     "traceback": [
      "\u001b[1;31m---------------------------------------------------------------------------\u001b[0m",
      "\u001b[1;31mValueError\u001b[0m                                Traceback (most recent call last)",
      "\u001b[1;32m~\\AppData\\Local\\Temp\\ipykernel_15368\\2153022749.py\u001b[0m in \u001b[0;36m<module>\u001b[1;34m\u001b[0m\n\u001b[1;32m----> 1\u001b[1;33m \u001b[0mn\u001b[0m \u001b[1;33m=\u001b[0m \u001b[0mint\u001b[0m\u001b[1;33m(\u001b[0m\u001b[0minput\u001b[0m\u001b[1;33m(\u001b[0m\u001b[1;34m'Enter number of elements:'\u001b[0m\u001b[1;33m)\u001b[0m\u001b[1;33m)\u001b[0m\u001b[1;33m\u001b[0m\u001b[1;33m\u001b[0m\u001b[0m\n\u001b[0m\u001b[0;32m      2\u001b[0m \u001b[0mlist_element\u001b[0m\u001b[1;33m=\u001b[0m\u001b[1;33m[\u001b[0m\u001b[1;33m]\u001b[0m\u001b[1;33m\u001b[0m\u001b[1;33m\u001b[0m\u001b[0m\n\u001b[0;32m      3\u001b[0m \u001b[1;32mfor\u001b[0m \u001b[0mi\u001b[0m \u001b[1;32min\u001b[0m \u001b[0mrange\u001b[0m\u001b[1;33m(\u001b[0m\u001b[1;36m0\u001b[0m\u001b[1;33m,\u001b[0m \u001b[0mn\u001b[0m\u001b[1;33m)\u001b[0m\u001b[1;33m:\u001b[0m\u001b[1;33m\u001b[0m\u001b[1;33m\u001b[0m\u001b[0m\n\u001b[0;32m      4\u001b[0m     \u001b[0melement\u001b[0m\u001b[1;33m=\u001b[0m \u001b[0minput\u001b[0m\u001b[1;33m(\u001b[0m\u001b[1;34m'enter the element:'\u001b[0m\u001b[1;33m)\u001b[0m\u001b[1;33m\u001b[0m\u001b[1;33m\u001b[0m\u001b[0m\n\u001b[0;32m      5\u001b[0m     \u001b[0mlist_element\u001b[0m\u001b[1;33m.\u001b[0m\u001b[0mappend\u001b[0m\u001b[1;33m(\u001b[0m\u001b[0melement\u001b[0m\u001b[1;33m)\u001b[0m\u001b[1;33m\u001b[0m\u001b[1;33m\u001b[0m\u001b[0m\n",
      "\u001b[1;31mValueError\u001b[0m: invalid literal for int() with base 10: ''"
     ]
    }
   ],
   "source": [
    "n = int(input('Enter number of elements:'))\n",
    "list_element=[]\n",
    "for i in range(0, n):\n",
    "    element= input('enter the element:')\n",
    "    list_element.append(element)\n",
    "    list_element.sort(key=len,reverse=True)\n",
    "    print(list_element)\n",
    "    print(list_element[0])\n",
    "# for i in range(0,n):\n",
    "#     if len(list_element[i])==len(list_element[i+1]):\n",
    "#         print(list_element[i:i+1])\n",
    "#print(len(list_element[0]))\n",
    "    \n",
    "\n"
   ]
  },
  {
   "cell_type": "markdown",
   "id": "eb75051e",
   "metadata": {},
   "source": [
    "# Create a List of Tuples with the First Element as the Number and Second Element as the Square of the Number"
   ]
  },
  {
   "cell_type": "code",
   "execution_count": 31,
   "id": "e04ee06b",
   "metadata": {},
   "outputs": [
    {
     "name": "stdout",
     "output_type": "stream",
     "text": [
      "enter number of elements : 4\n",
      "enter the number: 1\n",
      "enter the number: 2\n",
      "enter the number: 3\n",
      "enter the number: 4\n",
      "[(1, 1), (2, 4), (3, 9), (4, 16)]\n"
     ]
    }
   ],
   "source": [
    "n= int(input('enter number of elements : '))\n",
    "_list_=[]\n",
    "for i in range(0,n):\n",
    "    num= int(input('enter the number: '))\n",
    "    sq_num= num**2\n",
    "    _tuple_= (num,num**2)\n",
    "    _list_.append(_tuple_)\n",
    "print(_list_)\n",
    "    \n",
    "    "
   ]
  },
  {
   "cell_type": "markdown",
   "id": "c2e7b78c",
   "metadata": {},
   "source": [
    "# Program to Remove the Duplicate Items from a List"
   ]
  },
  {
   "cell_type": "code",
   "execution_count": 47,
   "id": "b2c9dccc",
   "metadata": {},
   "outputs": [
    {
     "name": "stdout",
     "output_type": "stream",
     "text": [
      "enter number of elements : 4\n",
      "enter the number: kaka\n",
      "enter the number: kaka\n",
      "enter the number: lal\n",
      "enter the number: po\n",
      "['kaka', 'kaka', 'lal', 'po']\n",
      "['po', 'lal', 'kaka']\n"
     ]
    }
   ],
   "source": [
    "n= int(input('enter number of elements : '))\n",
    "items=[]\n",
    "for i in range(0,n):\n",
    "    element= input('enter the number: ')\n",
    "    items.append(element)\n",
    "print(items)\n",
    "final_item= list(set(items))\n",
    "print(final_item)\n",
    "# final_list= list(set(_list_))\n",
    "# print(final_list)"
   ]
  },
  {
   "cell_type": "code",
   "execution_count": 18,
   "id": "31bf0c55",
   "metadata": {},
   "outputs": [
    {
     "ename": "IndexError",
     "evalue": "string index out of range",
     "output_type": "error",
     "traceback": [
      "\u001b[1;31m---------------------------------------------------------------------------\u001b[0m",
      "\u001b[1;31mIndexError\u001b[0m                                Traceback (most recent call last)",
      "\u001b[1;32m~\\AppData\\Local\\Temp\\ipykernel_13540\\2050228432.py\u001b[0m in \u001b[0;36m<module>\u001b[1;34m\u001b[0m\n\u001b[0;32m      2\u001b[0m \u001b[0mPhNo\u001b[0m\u001b[1;33m=\u001b[0m\u001b[1;33m[\u001b[0m\u001b[1;33m]\u001b[0m\u001b[1;33m\u001b[0m\u001b[1;33m\u001b[0m\u001b[0m\n\u001b[0;32m      3\u001b[0m \u001b[1;32mfor\u001b[0m \u001b[0mi\u001b[0m \u001b[1;32min\u001b[0m \u001b[0mrange\u001b[0m\u001b[1;33m(\u001b[0m\u001b[0mlen\u001b[0m\u001b[1;33m(\u001b[0m\u001b[0mmsg\u001b[0m\u001b[1;33m)\u001b[0m\u001b[1;33m)\u001b[0m\u001b[1;33m:\u001b[0m\u001b[1;33m\u001b[0m\u001b[1;33m\u001b[0m\u001b[0m\n\u001b[1;32m----> 4\u001b[1;33m     \u001b[1;32mif\u001b[0m \u001b[0mmsg\u001b[0m\u001b[1;33m[\u001b[0m\u001b[0mi\u001b[0m\u001b[1;33m]\u001b[0m\u001b[1;33m.\u001b[0m\u001b[0misdigit\u001b[0m\u001b[1;33m(\u001b[0m\u001b[1;33m)\u001b[0m \u001b[1;32mand\u001b[0m \u001b[0mmsg\u001b[0m\u001b[1;33m[\u001b[0m\u001b[0mi\u001b[0m\u001b[1;33m+\u001b[0m\u001b[1;36m1\u001b[0m\u001b[1;33m]\u001b[0m\u001b[1;33m.\u001b[0m\u001b[0misspace\u001b[0m\u001b[1;33m(\u001b[0m\u001b[1;33m)\u001b[0m\u001b[1;33m:\u001b[0m\u001b[1;33m\u001b[0m\u001b[1;33m\u001b[0m\u001b[0m\n\u001b[0m\u001b[0;32m      5\u001b[0m         \u001b[0mPhNo\u001b[0m\u001b[1;33m.\u001b[0m\u001b[0mappend\u001b[0m\u001b[1;33m(\u001b[0m\u001b[0mmsg\u001b[0m\u001b[1;33m[\u001b[0m\u001b[0mi\u001b[0m\u001b[1;33m]\u001b[0m\u001b[1;33m)\u001b[0m\u001b[1;33m\u001b[0m\u001b[1;33m\u001b[0m\u001b[0m\n\u001b[0;32m      6\u001b[0m         \u001b[1;32mif\u001b[0m \u001b[0mmsg\u001b[0m\u001b[1;33m[\u001b[0m\u001b[0mi\u001b[0m\u001b[1;33m]\u001b[0m\u001b[1;33m.\u001b[0m\u001b[0misdigit\u001b[0m\u001b[1;33m(\u001b[0m\u001b[1;33m)\u001b[0m\u001b[1;33m:\u001b[0m\u001b[1;33m\u001b[0m\u001b[1;33m\u001b[0m\u001b[0m\n",
      "\u001b[1;31mIndexError\u001b[0m: string index out of range"
     ]
    }
   ],
   "source": [
    "# msg= 'the OTP id 8769 sent on 7478834056'\n",
    "# PhNo=[]\n",
    "# for i in range(len(msg)):\n",
    "#     if msg[i].isdigit() and msg[i+1].isspace():\n",
    "#         PhNo.append(msg[i])\n",
    "#         if msg[i].isdigit():\n",
    "#             PhNo.append(msg[i])\n",
    "            \n",
    "        \n",
    "# #         if msg[i].isspace():\n",
    "# #             PhNo.clear()\n",
    "        \n",
    "# print(PhNo)"
   ]
  },
  {
   "cell_type": "code",
   "execution_count": 5,
   "id": "689de73b",
   "metadata": {},
   "outputs": [
    {
     "name": "stdout",
     "output_type": "stream",
     "text": [
      "12\n",
      " Input the command: insert 0 5\n",
      " Input the command: insert 1 10\n",
      " Input the command: insert 0 6\n",
      " Input the command: print\n",
      " Input the command: remove 6\n",
      " Input the command: append 9\n",
      " Input the command: append 1\n",
      " Input the command: sort\n",
      " Input the command: print\n",
      " Input the command: pop\n",
      " Input the command: reverse\n",
      " Input the command: print\n",
      "[]\n"
     ]
    }
   ],
   "source": [
    "# a=[]\n",
    "# N = int(input())\n",
    "# for _ in range(N):\n",
    "#     k= input(' Input the command: ')\n",
    "#     if k[0]== 'insert':\n",
    "#             a.insert(k[2],k[1])\n",
    "#     if k[0]=='print':\n",
    "#         print(a)\n",
    "#     if k[0]== 'remove':\n",
    "#         a.remove(k[1])\n",
    "#     if k[0]== 'append':\n",
    "#         a.append(k[1])\n",
    "#     if k[0]== 'sort':\n",
    "#         a.sort()\n",
    "#     if k[0]=='pop':\n",
    "#         a.pop()\n",
    "#     if k[0]=='reverse':\n",
    "#         a.reverse()\n",
    "# print(a)\n"
   ]
  },
  {
   "cell_type": "code",
   "execution_count": null,
   "id": "7035965f",
   "metadata": {},
   "outputs": [],
   "source": [
    "# 12\n",
    "# insert 0 5\n",
    "# insert 1 10\n",
    "# insert 0 6\n",
    "# print\n",
    "# remove 6\n",
    "# append 9\n",
    "# append 1\n",
    "# sort\n",
    "# print\n",
    "# pop\n",
    "# reverse\n",
    "# print"
   ]
  },
  {
   "cell_type": "code",
   "execution_count": 16,
   "id": "d730195e",
   "metadata": {},
   "outputs": [
    {
     "name": "stdout",
     "output_type": "stream",
     "text": [
      "1\n",
      " Input the command: insert 2 2\n",
      "['insert', '2', '2']\n",
      "[2]\n"
     ]
    }
   ],
   "source": [
    "# a=[]\n",
    "# N = int(input())\n",
    "# for _ in range(N):\n",
    "#     k= input(' Input the command: ').split()\n",
    "#     if k[0]== 'insert':\n",
    "#              a.insert(int(k[2]),int(k[1]))\n",
    "# print(k)\n",
    "# print(a)"
   ]
  },
  {
   "cell_type": "code",
   "execution_count": 23,
   "id": "60c3a505",
   "metadata": {},
   "outputs": [
    {
     "name": "stdout",
     "output_type": "stream",
     "text": [
      "qwe\n",
      "True\n",
      "True\n",
      "True\n"
     ]
    }
   ],
   "source": [
    "# s = input()\n",
    "    \n",
    "    \n",
    "# for i in s:\n",
    "#         if s.isalnum():\n",
    "#             print('True')\n",
    "#         else:\n",
    "#             ('False')\n",
    "    \n",
    "        \n",
    "        "
   ]
  },
  {
   "cell_type": "code",
   "execution_count": 17,
   "id": "9389de4d",
   "metadata": {},
   "outputs": [
    {
     "ename": "NameError",
     "evalue": "name 'ABCABCABC' is not defined",
     "output_type": "error",
     "traceback": [
      "\u001b[1;31m---------------------------------------------------------------------------\u001b[0m",
      "\u001b[1;31mNameError\u001b[0m                                 Traceback (most recent call last)",
      "\u001b[1;32m~\\AppData\\Local\\Temp\\ipykernel_9372\\1580953383.py\u001b[0m in \u001b[0;36m<module>\u001b[1;34m\u001b[0m\n\u001b[0;32m      1\u001b[0m \u001b[0ma\u001b[0m\u001b[1;33m=\u001b[0m\u001b[1;33m[\u001b[0m\u001b[1;33m]\u001b[0m\u001b[1;33m\u001b[0m\u001b[1;33m\u001b[0m\u001b[0m\n\u001b[1;32m----> 2\u001b[1;33m \u001b[0mstring\u001b[0m\u001b[1;33m=\u001b[0m \u001b[0mstr\u001b[0m\u001b[1;33m(\u001b[0m\u001b[0mABCABCABC\u001b[0m\u001b[1;33m)\u001b[0m\u001b[1;33m\u001b[0m\u001b[1;33m\u001b[0m\u001b[0m\n\u001b[0m\u001b[0;32m      3\u001b[0m \u001b[0msub_string\u001b[0m\u001b[1;33m=\u001b[0m \u001b[0mstr\u001b[0m\u001b[1;33m(\u001b[0m\u001b[0mABC\u001b[0m\u001b[1;33m)\u001b[0m\u001b[1;33m\u001b[0m\u001b[1;33m\u001b[0m\u001b[0m\n\u001b[0;32m      4\u001b[0m \u001b[1;33m\u001b[0m\u001b[0m\n\u001b[0;32m      5\u001b[0m \u001b[1;32mfor\u001b[0m \u001b[0mi\u001b[0m \u001b[1;32min\u001b[0m \u001b[0mrange\u001b[0m \u001b[1;33m(\u001b[0m\u001b[0mlen\u001b[0m\u001b[1;33m(\u001b[0m\u001b[0mstring\u001b[0m\u001b[1;33m)\u001b[0m\u001b[1;33m)\u001b[0m\u001b[1;33m:\u001b[0m\u001b[1;33m\u001b[0m\u001b[1;33m\u001b[0m\u001b[0m\n",
      "\u001b[1;31mNameError\u001b[0m: name 'ABCABCABC' is not defined"
     ]
    }
   ],
   "source": [
    "# a=[]\n",
    "# string= str(ABCABCABC)\n",
    "# sub_string= str(ABC)\n",
    "\n",
    "# for i in range (len(string)):\n",
    "#     if string.find(sub_string):\n",
    "#           a.append(sub_string)\n",
    "    \n",
    "# print(a)\n",
    "    "
   ]
  },
  {
   "cell_type": "code",
   "execution_count": 7,
   "id": "ecad26a2",
   "metadata": {},
   "outputs": [
    {
     "name": "stdout",
     "output_type": "stream",
     "text": [
      "1\n"
     ]
    }
   ],
   "source": []
  },
  {
   "cell_type": "code",
   "execution_count": 16,
   "id": "89cd13c5",
   "metadata": {},
   "outputs": [
    {
     "name": "stdout",
     "output_type": "stream",
     "text": [
      "11\n"
     ]
    }
   ],
   "source": [
    "# string= 'hello hello'\n",
    "# substring= 'ello'\n",
    "# c=0\n",
    "# for i in range(len(string)):\n",
    "#     if string.find(substring)>=0:\n",
    "#         c=c+1\n",
    "# print(c)\n",
    "                \n",
    "               \n",
    "    \n",
    "\n"
   ]
  },
  {
   "cell_type": "code",
   "execution_count": 23,
   "id": "f02e183b",
   "metadata": {},
   "outputs": [
    {
     "name": "stdout",
     "output_type": "stream",
     "text": [
      "13\n",
      "3\n"
     ]
    }
   ],
   "source": [
    "# string='ABCABCABC'\n",
    "# sub_string='ABC'\n",
    "# s=str(string)\n",
    "# su=str(sub_string)\n",
    "# a=0\n",
    "# n=0\n",
    "# for i in range(0,len(s)):\n",
    "#         if s.find(su,n) >=0:\n",
    "#             a += 1\n",
    "#             n = s.find(su,n)\n",
    "#         n += 1        \n",
    "# print(n)\n",
    "# print(a)\n"
   ]
  },
  {
   "cell_type": "code",
   "execution_count": 24,
   "id": "7000ed84",
   "metadata": {},
   "outputs": [
    {
     "name": "stdout",
     "output_type": "stream",
     "text": [
      "20\n"
     ]
    },
    {
     "ename": "AttributeError",
     "evalue": "'str' object has no attribute '______'",
     "output_type": "error",
     "traceback": [
      "\u001b[1;31m---------------------------------------------------------------------------\u001b[0m",
      "\u001b[1;31mAttributeError\u001b[0m                            Traceback (most recent call last)",
      "\u001b[1;32m~\\AppData\\Local\\Temp\\ipykernel_19028\\3381035950.py\u001b[0m in \u001b[0;36m<module>\u001b[1;34m\u001b[0m\n\u001b[0;32m      4\u001b[0m \u001b[1;31m#Top Cone\u001b[0m\u001b[1;33m\u001b[0m\u001b[1;33m\u001b[0m\u001b[0m\n\u001b[0;32m      5\u001b[0m \u001b[1;32mfor\u001b[0m \u001b[0mi\u001b[0m \u001b[1;32min\u001b[0m \u001b[0mrange\u001b[0m\u001b[1;33m(\u001b[0m\u001b[0mthickness\u001b[0m\u001b[1;33m)\u001b[0m\u001b[1;33m:\u001b[0m\u001b[1;33m\u001b[0m\u001b[1;33m\u001b[0m\u001b[0m\n\u001b[1;32m----> 6\u001b[1;33m     \u001b[0mprint\u001b[0m\u001b[1;33m(\u001b[0m\u001b[1;33m(\u001b[0m\u001b[0mc\u001b[0m\u001b[1;33m*\u001b[0m\u001b[0mi\u001b[0m\u001b[1;33m)\u001b[0m\u001b[1;33m.\u001b[0m\u001b[0m______\u001b[0m\u001b[1;33m(\u001b[0m\u001b[0mthickness\u001b[0m\u001b[1;33m-\u001b[0m\u001b[1;36m1\u001b[0m\u001b[1;33m)\u001b[0m\u001b[1;33m+\u001b[0m\u001b[0mc\u001b[0m\u001b[1;33m+\u001b[0m\u001b[1;33m(\u001b[0m\u001b[0mc\u001b[0m\u001b[1;33m*\u001b[0m\u001b[0mi\u001b[0m\u001b[1;33m)\u001b[0m\u001b[1;33m.\u001b[0m\u001b[0m______\u001b[0m\u001b[1;33m(\u001b[0m\u001b[0mthickness\u001b[0m\u001b[1;33m-\u001b[0m\u001b[1;36m1\u001b[0m\u001b[1;33m)\u001b[0m\u001b[1;33m)\u001b[0m\u001b[1;33m\u001b[0m\u001b[1;33m\u001b[0m\u001b[0m\n\u001b[0m\u001b[0;32m      7\u001b[0m \u001b[1;33m\u001b[0m\u001b[0m\n\u001b[0;32m      8\u001b[0m \u001b[1;33m\u001b[0m\u001b[0m\n",
      "\u001b[1;31mAttributeError\u001b[0m: 'str' object has no attribute '______'"
     ]
    }
   ],
   "source": [
    "# thickness = int(input()) #This must be an odd number\n",
    "# c = 'H'\n",
    "\n",
    "# #Top Cone\n",
    "# for i in range(thickness):\n",
    "#     print((c*i).______(thickness-1)+c+(c*i).______(thickness-1))\n",
    "    \n",
    "    \n",
    "# print(i)\n",
    "\n",
    "\n"
   ]
  },
  {
   "cell_type": "code",
   "execution_count": 46,
   "id": "61e6db59",
   "metadata": {},
   "outputs": [
    {
     "name": "stdout",
     "output_type": "stream",
     "text": [
      "5\n",
      "    H    \n",
      "   HHH   \n",
      "  HHHHH  \n",
      " HHHHHHH \n",
      "HHHHHHHHH\n",
      "  HHHHH                            HHHHH\n",
      "  HHHHH                            HHHHH\n",
      "  HHHHH                            HHHHH\n",
      "  HHHHH                            HHHHH\n",
      "  HHHHH                            HHHHH\n",
      "  HHHHH                            HHHHH\n",
      "     HHHHHHHHHHHHHHHHHHHHHHHHH\n",
      "     HHHHHHHHHHHHHHHHHHHHHHHHH\n",
      "     HHHHHHHHHHHHHHHHHHHHHHHHH\n"
     ]
    }
   ],
   "source": [
    "# thickness = int(input()) #This must be an odd number\n",
    "# c = 'H'\n",
    "\n",
    "# #Top Cone\n",
    "# for i in range(thickness):\n",
    "#     print((c*i).rjust(thickness-1)+c+(c*i).ljust(thickness-1))\n",
    "# for i in range(thickness+1):\n",
    "#     print((c*thickness).center(thickness*2)+(c*thickness).rjust(thickness*6))\n",
    "# for i in range((thickness+1)//2):\n",
    "#     print((c*thickness*5).rjust(thickness*6))\n",
    "    "
   ]
  },
  {
   "cell_type": "code",
   "execution_count": 37,
   "id": "0357b223",
   "metadata": {},
   "outputs": [
    {
     "name": "stdout",
     "output_type": "stream",
     "text": [
      "-----HackerRan------\n"
     ]
    }
   ],
   "source": [
    "# print('HackerRan'.center(20,'-'))"
   ]
  },
  {
   "cell_type": "code",
   "execution_count": 32,
   "id": "b2538ca9",
   "metadata": {},
   "outputs": [
    {
     "name": "stdout",
     "output_type": "stream",
     "text": [
      "-----HackerRank----------HackerRank----------HackerRank----------HackerRank----------HackerRank----------HackerRank----------HackerRank----------HackerRank----------HackerRank----------HackerRank-----\n",
      "-----HackerRank----------HackerRank----------HackerRank----------HackerRank----------HackerRank----------HackerRank----------HackerRank----------HackerRank----------HackerRank----------HackerRank-----\n",
      "-----HackerRank----------HackerRank----------HackerRank----------HackerRank----------HackerRank----------HackerRank----------HackerRank----------HackerRank----------HackerRank----------HackerRank-----\n",
      "-----HackerRank----------HackerRank----------HackerRank----------HackerRank----------HackerRank----------HackerRank----------HackerRank----------HackerRank----------HackerRank----------HackerRank-----\n",
      "-----HackerRank----------HackerRank----------HackerRank----------HackerRank----------HackerRank----------HackerRank----------HackerRank----------HackerRank----------HackerRank----------HackerRank-----\n",
      "-----HackerRank----------HackerRank----------HackerRank----------HackerRank----------HackerRank----------HackerRank----------HackerRank----------HackerRank----------HackerRank----------HackerRank-----\n"
     ]
    }
   ],
   "source": [
    "# for i in range(thickness+1):\n",
    "#     print((c*thickness).center(thickness*2)+(c*thickness).ljust(thickness*6))\n",
    "    \n",
    "    "
   ]
  },
  {
   "cell_type": "code",
   "execution_count": 14,
   "id": "177e01cb",
   "metadata": {},
   "outputs": [
    {
     "name": "stdout",
     "output_type": "stream",
     "text": [
      "7 21\n",
      "---------.|.---------\n",
      "------.|..|..|.------\n",
      "---.|..|..|..|..|.---\n",
      "--------MISTU--------\n",
      "---.|..|..|..|..|.---\n",
      "------.|..|..|.------\n",
      "---------.|.---------\n"
     ]
    }
   ],
   "source": [
    "# n,m=map(int,input().split())\n",
    "# k='.|.'\n",
    "\n",
    "# for i in range(n):\n",
    "#     if i%2!=0:\n",
    "#         print((k*i).center(m,'-'))\n",
    "# else:\n",
    "#     print('MISTU'.center(m,'-'))\n",
    "# for i in range((n-2),0,-1):\n",
    "#     if i%2!=0:\n",
    "#         print((k*i).center(m,'-'))\n",
    "\n",
    "    \n",
    "\n",
    "\n",
    "        "
   ]
  },
  {
   "cell_type": "code",
   "execution_count": 62,
   "id": "a03644f8",
   "metadata": {},
   "outputs": [
    {
     "name": "stdout",
     "output_type": "stream",
     "text": [
      "2\n",
      "   1   1   1   1\n",
      "   2   2   2  10\n"
     ]
    }
   ],
   "source": [
    "# n= int(input())\n",
    "# for i in range(1, n+1):\n",
    "#     m= len(bin(11)[2:])\n",
    "    \n",
    "       \n",
    "#     print(oct(i)[2:].rjust(m),end='')\n",
    "#     print(str(i).rjust(m),end='')\n",
    "#     print(hex(i)[2:].rjust(m).upper(),end='')\n",
    "#     print(bin(i)[2:].rjust(m))\n",
    "\n",
    "    \n",
    "    "
   ]
  },
  {
   "cell_type": "code",
   "execution_count": 63,
   "id": "b0b58bf4",
   "metadata": {},
   "outputs": [
    {
     "name": "stdout",
     "output_type": "stream",
     "text": [
      "17\n",
      "    1     1     1     1\n",
      "    2     2     2    10\n",
      "    3     3     3    11\n",
      "    4     4     4   100\n",
      "    5     5     5   101\n",
      "    6     6     6   110\n",
      "    7     7     7   111\n",
      "   10     8     8  1000\n",
      "   11     9     9  1001\n",
      "   12    10     A  1010\n",
      "   13    11     B  1011\n",
      "   14    12     C  1100\n",
      "   15    13     D  1101\n",
      "   16    14     E  1110\n",
      "   17    15     F  1111\n",
      "   20    16    10 10000\n",
      "   21    17    11 10001\n"
     ]
    }
   ],
   "source": [
    "# def print_formatted(number):\n",
    "#     # your code goes here\n",
    "#     for i in range(1, number+1):\n",
    "#         m= (len(bin(number)[2:]))\n",
    "    \n",
    "       \n",
    "#         a=print(oct(i)[2:].rjust(m),end=' ')\n",
    "#         b=print(str(i).rjust(m),end=' ')\n",
    "#         c=print(hex(i)[2:].rjust(m).upper(),end=' ')\n",
    "#         d=print(bin(i)[2:].rjust(m))\n",
    "#     return a,b,c,d\n",
    "\n",
    "# if __name__ == '__main__':\n",
    "#     n = int(input())\n",
    "#     print_formatted(n)\n",
    "    \n"
   ]
  },
  {
   "cell_type": "code",
   "execution_count": 67,
   "id": "e18ecb62",
   "metadata": {},
   "outputs": [
    {
     "name": "stdout",
     "output_type": "stream",
     "text": [
      "10\n",
      "abcdefghij\n"
     ]
    }
   ],
   "source": [
    "# import string\n",
    "# N=int(input())\n",
    "# res = string.ascii_lowercase[:N]\n",
    "# print(res)"
   ]
  },
  {
   "cell_type": "code",
   "execution_count": 86,
   "id": "af560b4d",
   "metadata": {},
   "outputs": [
    {
     "name": "stdout",
     "output_type": "stream",
     "text": [
      "5\n"
     ]
    },
    {
     "ename": "TypeError",
     "evalue": "'int' object is not subscriptable",
     "output_type": "error",
     "traceback": [
      "\u001b[1;31m---------------------------------------------------------------------------\u001b[0m",
      "\u001b[1;31mTypeError\u001b[0m                                 Traceback (most recent call last)",
      "\u001b[1;32m~\\AppData\\Local\\Temp\\ipykernel_328\\2709542368.py\u001b[0m in \u001b[0;36m<module>\u001b[1;34m\u001b[0m\n\u001b[0;32m      8\u001b[0m \u001b[1;33m\u001b[0m\u001b[0m\n\u001b[0;32m      9\u001b[0m \u001b[1;32mfor\u001b[0m \u001b[0mi\u001b[0m \u001b[1;32min\u001b[0m \u001b[0mreversed\u001b[0m\u001b[1;33m(\u001b[0m\u001b[0mrange\u001b[0m\u001b[1;33m(\u001b[0m\u001b[0mn\u001b[0m\u001b[1;33m)\u001b[0m\u001b[1;33m)\u001b[0m\u001b[1;33m:\u001b[0m\u001b[1;33m\u001b[0m\u001b[1;33m\u001b[0m\u001b[0m\n\u001b[1;32m---> 10\u001b[1;33m         \u001b[0mn\u001b[0m\u001b[1;33m[\u001b[0m\u001b[0mi\u001b[0m\u001b[1;33m+\u001b[0m\u001b[1;36m1\u001b[0m\u001b[1;33m]\u001b[0m\u001b[1;33m==\u001b[0m\u001b[1;36m0\u001b[0m\u001b[1;33m\u001b[0m\u001b[1;33m\u001b[0m\u001b[0m\n\u001b[0m\u001b[0;32m     11\u001b[0m         \u001b[1;31m#print((a[n:(n-i):-1]).center(5,'-') #(n*3+(n-3))\u001b[0m\u001b[1;33m\u001b[0m\u001b[1;33m\u001b[0m\u001b[0m\n\u001b[0;32m     12\u001b[0m         \u001b[0mprint\u001b[0m\u001b[1;33m(\u001b[0m\u001b[1;33m(\u001b[0m\u001b[0ma\u001b[0m\u001b[1;33m[\u001b[0m\u001b[0mn\u001b[0m\u001b[1;33m:\u001b[0m\u001b[0mi\u001b[0m\u001b[1;33m:\u001b[0m\u001b[1;33m-\u001b[0m\u001b[1;36m1\u001b[0m\u001b[1;33m]\u001b[0m\u001b[1;33m+\u001b[0m\u001b[0ma\u001b[0m\u001b[1;33m[\u001b[0m\u001b[0mi\u001b[0m\u001b[1;33m+\u001b[0m\u001b[1;36m1\u001b[0m\u001b[1;33m]\u001b[0m\u001b[1;33m)\u001b[0m\u001b[1;33m.\u001b[0m\u001b[0mcenter\u001b[0m\u001b[1;33m(\u001b[0m\u001b[1;36m5\u001b[0m\u001b[1;33m)\u001b[0m\u001b[1;33m)\u001b[0m\u001b[1;33m\u001b[0m\u001b[1;33m\u001b[0m\u001b[0m\n",
      "\u001b[1;31mTypeError\u001b[0m: 'int' object is not subscriptable"
     ]
    }
   ],
   "source": [
    "# # import string\n",
    "\n",
    "# # def print_rangoli(size):\n",
    "# n= int(input())\n",
    "# a = string.ascii_lowercase[:n]\n",
    "\n",
    "# b= a[::-1]\n",
    "    \n",
    "# for i in reversed(range(n)):\n",
    "#         n[i+1]==0\n",
    "#         #print((a[n:(n-i):-1]).center(5,'-') #(n*3+(n-3))\n",
    "#         print((a[n:i:-1]+a[i+1]).center(5))\n",
    "    \n",
    "      \n",
    "        \n",
    "        \n",
    "#     # your code goes here\n",
    "\n",
    "# # if __name__ == '__main__':\n",
    "# #     n = int(input())\n",
    "# #     print_rangoli(n)"
   ]
  },
  {
   "cell_type": "markdown",
   "id": "0b4f5626",
   "metadata": {},
   "source": [
    "--------e--------\n",
    "------e-d-e------\n",
    "----e-d-c-d-e----\n",
    "--e-d-c-b-c-d-e--\n",
    "e-d-c-b-a-b-c-d-e\n",
    "--e-d-c-b-c-d-e--\n",
    "----e-d-c-d-e----\n",
    "------e-d-e------\n",
    "--------e--------\n"
   ]
  },
  {
   "cell_type": "code",
   "execution_count": 26,
   "id": "c3c23652",
   "metadata": {},
   "outputs": [
    {
     "name": "stdout",
     "output_type": "stream",
     "text": [
      "['p', 'o', 'n', 'm', 'l', 'k', 'j', 'i', 'h', 'g', 'f', 'e', 'd', 'c', 'b', 'a']\n",
      "a-b-c-d-e-a-b-c-d-e-\n",
      "['a', 'b', 'c', 'd', 'e', 'f', 'g', 'h', 'i', 'j', 'k', 'l', 'm', 'n', 'o', 'p']\n"
     ]
    }
   ],
   "source": [
    "# a='abcdefghijklmnop'\n",
    "# c= list(map(str,a))\n",
    "# d=c[::-1]\n",
    "# print(d)\n",
    "\n",
    "# b= ('-'.join(c[0:5])+'-'+'-'.join(c[0:5])).center(20,'-')\n",
    "# print(b)\n",
    "# print(c)\n",
    "    "
   ]
  },
  {
   "cell_type": "code",
   "execution_count": 25,
   "id": "c69e427f",
   "metadata": {},
   "outputs": [
    {
     "name": "stdout",
     "output_type": "stream",
     "text": [
      "['a', 'b', 'c', 'd', 'e']\n"
     ]
    }
   ],
   "source": [
    "# res = list(string.ascii_lowercase[:5])\n",
    "# print(res)"
   ]
  },
  {
   "cell_type": "code",
   "execution_count": 50,
   "id": "7f2c648b",
   "metadata": {},
   "outputs": [
    {
     "name": "stdout",
     "output_type": "stream",
     "text": [
      "5\n",
      "['a', 'b', 'c', 'd', 'e']\n",
      "[]\n"
     ]
    }
   ],
   "source": []
  },
  {
   "cell_type": "code",
   "execution_count": 58,
   "id": "afd83a79",
   "metadata": {},
   "outputs": [
    {
     "ename": "SyntaxError",
     "evalue": "invalid syntax (2212877796.py, line 11)",
     "output_type": "error",
     "traceback": [
      "\u001b[1;36m  File \u001b[1;32m\"C:\\Users\\panda\\AppData\\Local\\Temp\\ipykernel_15368\\2212877796.py\"\u001b[1;36m, line \u001b[1;32m11\u001b[0m\n\u001b[1;33m    print(str([0:i]))\u001b[0m\n\u001b[1;37m                ^\u001b[0m\n\u001b[1;31mSyntaxError\u001b[0m\u001b[1;31m:\u001b[0m invalid syntax\n"
     ]
    }
   ],
   "source": [
    "n= int(input('No of elements'))\n",
    "a=' '\n",
    "c=0\n",
    "for i in range(1,n+1):\n",
    "    a=a+str(i)\n",
    "for i in range(len(a)):\n",
    "    print(a[:i+1])\n",
    "    \n",
    "    \n",
    "for i in range(1,1+n):\n",
    "    \n",
    "\n",
    "\n",
    "    \n",
    "    \n",
    "    \n",
    "    \n",
    "   \n",
    "    \n",
    "\n",
    "        \n",
    "    \n",
    "    \n",
    "    \n",
    "    \n",
    "    \n",
    "\n",
    "  \n",
    "\n",
    "  \n",
    "\n",
    "   \n",
    "    \n",
    "    \n",
    "   \n",
    "    \n",
    "    \n",
    "    \n",
    "    "
   ]
  },
  {
   "cell_type": "code",
   "execution_count": 33,
   "id": "8ffbd4d8",
   "metadata": {},
   "outputs": [
    {
     "name": "stdout",
     "output_type": "stream",
     "text": [
      "[1]\n"
     ]
    }
   ],
   "source": [
    "a=[1,2,3,4,5]\n",
    "print(a[:1])"
   ]
  },
  {
   "cell_type": "code",
   "execution_count": null,
   "id": "2ff3a7b5",
   "metadata": {},
   "outputs": [],
   "source": []
  }
 ],
 "metadata": {
  "kernelspec": {
   "display_name": "Python 3 (ipykernel)",
   "language": "python",
   "name": "python3"
  },
  "language_info": {
   "codemirror_mode": {
    "name": "ipython",
    "version": 3
   },
   "file_extension": ".py",
   "mimetype": "text/x-python",
   "name": "python",
   "nbconvert_exporter": "python",
   "pygments_lexer": "ipython3",
   "version": "3.9.13"
  }
 },
 "nbformat": 4,
 "nbformat_minor": 5
}
